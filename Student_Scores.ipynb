{
 "cells": [
  {
   "cell_type": "code",
   "execution_count": 1,
   "id": "deb2508c",
   "metadata": {
    "execution": {
     "iopub.execute_input": "2025-05-18T21:36:10.230634Z",
     "iopub.status.busy": "2025-05-18T21:36:10.230093Z",
     "iopub.status.idle": "2025-05-18T21:36:10.245829Z",
     "shell.execute_reply": "2025-05-18T21:36:10.244170Z"
    },
    "papermill": {
     "duration": 0.033078,
     "end_time": "2025-05-18T21:36:10.248429",
     "exception": false,
     "start_time": "2025-05-18T21:36:10.215351",
     "status": "completed"
    },
    "tags": []
   },
   "outputs": [],
   "source": [
    "from IPython.display import display, HTML\n",
    "\n",
    "def show_title(text):\n",
    "    display(HTML(f'''\n",
    "    <div style=\"\n",
    "        font-size: 25px;\n",
    "        width: 50%;\n",
    "        color: #2C3E50;  /* رنگ متن تیره مناسب پس‌زمینه سفید */\n",
    "        text-shadow: 1px 1px 2px rgba(0,0,0,0.1);  /* سایه ملایم */\n",
    "        text-align: left;\n",
    "        border-bottom: 2px solid #2980B9;  /* خط آبی زیبا زیر متن */\n",
    "        margin-top: 20px;\n",
    "        margin-bottom: 10px;\n",
    "        font-weight: bold;\n",
    "        font-family: 'Segoe UI', Tahoma, Geneva, Verdana, sans-serif;\n",
    "    \">\n",
    "        {text}\n",
    "    </div>\n",
    "    '''))\n",
    "\n",
    "\n"
   ]
  },
  {
   "cell_type": "markdown",
   "id": "7a2e4f32",
   "metadata": {
    "papermill": {
     "duration": 0.010504,
     "end_time": "2025-05-18T21:36:10.277874",
     "exception": false,
     "start_time": "2025-05-18T21:36:10.267370",
     "status": "completed"
    },
    "tags": []
   },
   "source": [
    "<p style=\"background-color:#FFaaff;\n",
    "          font-family:sans-serif;\n",
    "          color:#FF00FF;\n",
    "          font-size:250%;\n",
    "          text-align:left;\n",
    "          border-radius:15px 15px;\">\n",
    "Import Modules\n",
    "</p>\n",
    "\n"
   ]
  },
  {
   "cell_type": "code",
   "execution_count": 2,
   "id": "221ed210",
   "metadata": {
    "execution": {
     "iopub.execute_input": "2025-05-18T21:36:10.301137Z",
     "iopub.status.busy": "2025-05-18T21:36:10.300643Z",
     "iopub.status.idle": "2025-05-18T21:36:16.686036Z",
     "shell.execute_reply": "2025-05-18T21:36:16.684622Z"
    },
    "papermill": {
     "duration": 6.399658,
     "end_time": "2025-05-18T21:36:16.688103",
     "exception": false,
     "start_time": "2025-05-18T21:36:10.288445",
     "status": "completed"
    },
    "tags": []
   },
   "outputs": [],
   "source": [
    "import numpy as np\n",
    "import pandas as pd\n",
    "import matplotlib.pyplot as plt\n",
    "import seaborn as sns\n",
    "from IPython.display import display, HTML"
   ]
  },
  {
   "cell_type": "code",
   "execution_count": 3,
   "id": "bfcaeadd",
   "metadata": {
    "execution": {
     "iopub.execute_input": "2025-05-18T21:36:16.711795Z",
     "iopub.status.busy": "2025-05-18T21:36:16.711237Z",
     "iopub.status.idle": "2025-05-18T21:36:16.719889Z",
     "shell.execute_reply": "2025-05-18T21:36:16.718783Z"
    },
    "papermill": {
     "duration": 0.022684,
     "end_time": "2025-05-18T21:36:16.721989",
     "exception": false,
     "start_time": "2025-05-18T21:36:16.699305",
     "status": "completed"
    },
    "tags": []
   },
   "outputs": [
    {
     "data": {
      "text/html": [
       "\n",
       "    <div style=\"\n",
       "        font-size: 25px;\n",
       "        width: 50%;\n",
       "        color: #2C3E50;  /* رنگ متن تیره مناسب پس‌زمینه سفید */\n",
       "        text-shadow: 1px 1px 2px rgba(0,0,0,0.1);  /* سایه ملایم */\n",
       "        text-align: left;\n",
       "        border-bottom: 2px solid #2980B9;  /* خط آبی زیبا زیر متن */\n",
       "        margin-top: 20px;\n",
       "        margin-bottom: 10px;\n",
       "        font-weight: bold;\n",
       "        font-family: 'Segoe UI', Tahoma, Geneva, Verdana, sans-serif;\n",
       "    \">\n",
       "        Load Dataset\n",
       "    </div>\n",
       "    "
      ],
      "text/plain": [
       "<IPython.core.display.HTML object>"
      ]
     },
     "metadata": {},
     "output_type": "display_data"
    }
   ],
   "source": [
    "show_title('Load Dataset')"
   ]
  },
  {
   "cell_type": "code",
   "execution_count": 4,
   "id": "c447ded6",
   "metadata": {
    "execution": {
     "iopub.execute_input": "2025-05-18T21:36:16.746068Z",
     "iopub.status.busy": "2025-05-18T21:36:16.745698Z",
     "iopub.status.idle": "2025-05-18T21:36:16.780060Z",
     "shell.execute_reply": "2025-05-18T21:36:16.778908Z"
    },
    "papermill": {
     "duration": 0.049223,
     "end_time": "2025-05-18T21:36:16.782842",
     "exception": false,
     "start_time": "2025-05-18T21:36:16.733619",
     "status": "completed"
    },
    "tags": []
   },
   "outputs": [],
   "source": [
    "data = pd.read_csv('/kaggle/input/students-score-dataset-linear-regression/student_scores.csv')\n"
   ]
  },
  {
   "cell_type": "code",
   "execution_count": 5,
   "id": "959d1ff9",
   "metadata": {
    "execution": {
     "iopub.execute_input": "2025-05-18T21:36:16.806627Z",
     "iopub.status.busy": "2025-05-18T21:36:16.806182Z",
     "iopub.status.idle": "2025-05-18T21:36:16.811873Z",
     "shell.execute_reply": "2025-05-18T21:36:16.810616Z"
    },
    "papermill": {
     "duration": 0.020261,
     "end_time": "2025-05-18T21:36:16.814255",
     "exception": false,
     "start_time": "2025-05-18T21:36:16.793994",
     "status": "completed"
    },
    "tags": []
   },
   "outputs": [],
   "source": [
    "df = pd.DataFrame(data)"
   ]
  },
  {
   "cell_type": "code",
   "execution_count": 6,
   "id": "3c7d4929",
   "metadata": {
    "execution": {
     "iopub.execute_input": "2025-05-18T21:36:16.838186Z",
     "iopub.status.busy": "2025-05-18T21:36:16.836750Z",
     "iopub.status.idle": "2025-05-18T21:36:16.845064Z",
     "shell.execute_reply": "2025-05-18T21:36:16.843636Z"
    },
    "papermill": {
     "duration": 0.021667,
     "end_time": "2025-05-18T21:36:16.846784",
     "exception": false,
     "start_time": "2025-05-18T21:36:16.825117",
     "status": "completed"
    },
    "tags": []
   },
   "outputs": [
    {
     "data": {
      "text/plain": [
       "(25, 2)"
      ]
     },
     "execution_count": 6,
     "metadata": {},
     "output_type": "execute_result"
    }
   ],
   "source": [
    "df.shape"
   ]
  },
  {
   "cell_type": "code",
   "execution_count": 7,
   "id": "88ea11e4",
   "metadata": {
    "execution": {
     "iopub.execute_input": "2025-05-18T21:36:16.870209Z",
     "iopub.status.busy": "2025-05-18T21:36:16.869863Z",
     "iopub.status.idle": "2025-05-18T21:36:16.878504Z",
     "shell.execute_reply": "2025-05-18T21:36:16.876906Z"
    },
    "papermill": {
     "duration": 0.022966,
     "end_time": "2025-05-18T21:36:16.880827",
     "exception": false,
     "start_time": "2025-05-18T21:36:16.857861",
     "status": "completed"
    },
    "tags": []
   },
   "outputs": [
    {
     "data": {
      "text/html": [
       "\n",
       "    <div style=\"\n",
       "        font-size: 25px;\n",
       "        width: 50%;\n",
       "        color: #2C3E50;  /* رنگ متن تیره مناسب پس‌زمینه سفید */\n",
       "        text-shadow: 1px 1px 2px rgba(0,0,0,0.1);  /* سایه ملایم */\n",
       "        text-align: left;\n",
       "        border-bottom: 2px solid #2980B9;  /* خط آبی زیبا زیر متن */\n",
       "        margin-top: 20px;\n",
       "        margin-bottom: 10px;\n",
       "        font-weight: bold;\n",
       "        font-family: 'Segoe UI', Tahoma, Geneva, Verdana, sans-serif;\n",
       "    \">\n",
       "        Top 5 Sample\n",
       "    </div>\n",
       "    "
      ],
      "text/plain": [
       "<IPython.core.display.HTML object>"
      ]
     },
     "metadata": {},
     "output_type": "display_data"
    }
   ],
   "source": [
    "\n",
    "show_title('Top 5 Sample')\n"
   ]
  },
  {
   "cell_type": "code",
   "execution_count": 8,
   "id": "2e799c2e",
   "metadata": {
    "execution": {
     "iopub.execute_input": "2025-05-18T21:36:16.904853Z",
     "iopub.status.busy": "2025-05-18T21:36:16.904443Z",
     "iopub.status.idle": "2025-05-18T21:36:16.940133Z",
     "shell.execute_reply": "2025-05-18T21:36:16.938804Z"
    },
    "papermill": {
     "duration": 0.050171,
     "end_time": "2025-05-18T21:36:16.942189",
     "exception": false,
     "start_time": "2025-05-18T21:36:16.892018",
     "status": "completed"
    },
    "tags": []
   },
   "outputs": [
    {
     "data": {
      "text/html": [
       "<div>\n",
       "<style scoped>\n",
       "    .dataframe tbody tr th:only-of-type {\n",
       "        vertical-align: middle;\n",
       "    }\n",
       "\n",
       "    .dataframe tbody tr th {\n",
       "        vertical-align: top;\n",
       "    }\n",
       "\n",
       "    .dataframe thead th {\n",
       "        text-align: right;\n",
       "    }\n",
       "</style>\n",
       "<table border=\"1\" class=\"dataframe\">\n",
       "  <thead>\n",
       "    <tr style=\"text-align: right;\">\n",
       "      <th></th>\n",
       "      <th>Hours</th>\n",
       "      <th>Scores</th>\n",
       "    </tr>\n",
       "  </thead>\n",
       "  <tbody>\n",
       "    <tr>\n",
       "      <th>0</th>\n",
       "      <td>2.5</td>\n",
       "      <td>21</td>\n",
       "    </tr>\n",
       "    <tr>\n",
       "      <th>1</th>\n",
       "      <td>5.1</td>\n",
       "      <td>47</td>\n",
       "    </tr>\n",
       "    <tr>\n",
       "      <th>2</th>\n",
       "      <td>3.2</td>\n",
       "      <td>27</td>\n",
       "    </tr>\n",
       "    <tr>\n",
       "      <th>3</th>\n",
       "      <td>8.5</td>\n",
       "      <td>75</td>\n",
       "    </tr>\n",
       "    <tr>\n",
       "      <th>4</th>\n",
       "      <td>3.5</td>\n",
       "      <td>30</td>\n",
       "    </tr>\n",
       "  </tbody>\n",
       "</table>\n",
       "</div>"
      ],
      "text/plain": [
       "   Hours  Scores\n",
       "0    2.5      21\n",
       "1    5.1      47\n",
       "2    3.2      27\n",
       "3    8.5      75\n",
       "4    3.5      30"
      ]
     },
     "execution_count": 8,
     "metadata": {},
     "output_type": "execute_result"
    }
   ],
   "source": [
    "df.head(5)"
   ]
  },
  {
   "cell_type": "code",
   "execution_count": 9,
   "id": "58cc97da",
   "metadata": {
    "execution": {
     "iopub.execute_input": "2025-05-18T21:36:16.966883Z",
     "iopub.status.busy": "2025-05-18T21:36:16.966372Z",
     "iopub.status.idle": "2025-05-18T21:36:16.974302Z",
     "shell.execute_reply": "2025-05-18T21:36:16.972673Z"
    },
    "papermill": {
     "duration": 0.0223,
     "end_time": "2025-05-18T21:36:16.976501",
     "exception": false,
     "start_time": "2025-05-18T21:36:16.954201",
     "status": "completed"
    },
    "tags": []
   },
   "outputs": [
    {
     "data": {
      "text/html": [
       "\n",
       "    <div style=\"\n",
       "        font-size: 25px;\n",
       "        width: 50%;\n",
       "        color: #2C3E50;  /* رنگ متن تیره مناسب پس‌زمینه سفید */\n",
       "        text-shadow: 1px 1px 2px rgba(0,0,0,0.1);  /* سایه ملایم */\n",
       "        text-align: left;\n",
       "        border-bottom: 2px solid #2980B9;  /* خط آبی زیبا زیر متن */\n",
       "        margin-top: 20px;\n",
       "        margin-bottom: 10px;\n",
       "        font-weight: bold;\n",
       "        font-family: 'Segoe UI', Tahoma, Geneva, Verdana, sans-serif;\n",
       "    \">\n",
       "        Insert Data in DataFrame df\n",
       "    </div>\n",
       "    "
      ],
      "text/plain": [
       "<IPython.core.display.HTML object>"
      ]
     },
     "metadata": {},
     "output_type": "display_data"
    }
   ],
   "source": [
    "show_title('Insert Data in DataFrame df')"
   ]
  },
  {
   "cell_type": "code",
   "execution_count": 10,
   "id": "13d67aad",
   "metadata": {
    "execution": {
     "iopub.execute_input": "2025-05-18T21:36:17.001278Z",
     "iopub.status.busy": "2025-05-18T21:36:17.000902Z",
     "iopub.status.idle": "2025-05-18T21:36:17.006860Z",
     "shell.execute_reply": "2025-05-18T21:36:17.005619Z"
    },
    "papermill": {
     "duration": 0.020847,
     "end_time": "2025-05-18T21:36:17.008776",
     "exception": false,
     "start_time": "2025-05-18T21:36:16.987929",
     "status": "completed"
    },
    "tags": []
   },
   "outputs": [],
   "source": [
    "df = pd.DataFrame(data)"
   ]
  },
  {
   "cell_type": "code",
   "execution_count": 11,
   "id": "eed69176",
   "metadata": {
    "execution": {
     "iopub.execute_input": "2025-05-18T21:36:17.032962Z",
     "iopub.status.busy": "2025-05-18T21:36:17.032515Z",
     "iopub.status.idle": "2025-05-18T21:36:17.040631Z",
     "shell.execute_reply": "2025-05-18T21:36:17.039487Z"
    },
    "papermill": {
     "duration": 0.022458,
     "end_time": "2025-05-18T21:36:17.042467",
     "exception": false,
     "start_time": "2025-05-18T21:36:17.020009",
     "status": "completed"
    },
    "tags": []
   },
   "outputs": [
    {
     "data": {
      "text/html": [
       "\n",
       "    <div style=\"\n",
       "        font-size: 25px;\n",
       "        width: 50%;\n",
       "        color: #2C3E50;  /* رنگ متن تیره مناسب پس‌زمینه سفید */\n",
       "        text-shadow: 1px 1px 2px rgba(0,0,0,0.1);  /* سایه ملایم */\n",
       "        text-align: left;\n",
       "        border-bottom: 2px solid #2980B9;  /* خط آبی زیبا زیر متن */\n",
       "        margin-top: 20px;\n",
       "        margin-bottom: 10px;\n",
       "        font-weight: bold;\n",
       "        font-family: 'Segoe UI', Tahoma, Geneva, Verdana, sans-serif;\n",
       "    \">\n",
       "        Describe Dataset\n",
       "    </div>\n",
       "    "
      ],
      "text/plain": [
       "<IPython.core.display.HTML object>"
      ]
     },
     "metadata": {},
     "output_type": "display_data"
    }
   ],
   "source": [
    "show_title('Describe Dataset')"
   ]
  },
  {
   "cell_type": "code",
   "execution_count": 12,
   "id": "b4ce0fd1",
   "metadata": {
    "execution": {
     "iopub.execute_input": "2025-05-18T21:36:17.069786Z",
     "iopub.status.busy": "2025-05-18T21:36:17.069181Z",
     "iopub.status.idle": "2025-05-18T21:36:17.099678Z",
     "shell.execute_reply": "2025-05-18T21:36:17.098571Z"
    },
    "papermill": {
     "duration": 0.046391,
     "end_time": "2025-05-18T21:36:17.101572",
     "exception": false,
     "start_time": "2025-05-18T21:36:17.055181",
     "status": "completed"
    },
    "tags": []
   },
   "outputs": [
    {
     "data": {
      "text/html": [
       "<div>\n",
       "<style scoped>\n",
       "    .dataframe tbody tr th:only-of-type {\n",
       "        vertical-align: middle;\n",
       "    }\n",
       "\n",
       "    .dataframe tbody tr th {\n",
       "        vertical-align: top;\n",
       "    }\n",
       "\n",
       "    .dataframe thead th {\n",
       "        text-align: right;\n",
       "    }\n",
       "</style>\n",
       "<table border=\"1\" class=\"dataframe\">\n",
       "  <thead>\n",
       "    <tr style=\"text-align: right;\">\n",
       "      <th></th>\n",
       "      <th>Hours</th>\n",
       "      <th>Scores</th>\n",
       "    </tr>\n",
       "  </thead>\n",
       "  <tbody>\n",
       "    <tr>\n",
       "      <th>count</th>\n",
       "      <td>25.000000</td>\n",
       "      <td>25.000000</td>\n",
       "    </tr>\n",
       "    <tr>\n",
       "      <th>mean</th>\n",
       "      <td>5.012000</td>\n",
       "      <td>51.480000</td>\n",
       "    </tr>\n",
       "    <tr>\n",
       "      <th>std</th>\n",
       "      <td>2.525094</td>\n",
       "      <td>25.286887</td>\n",
       "    </tr>\n",
       "    <tr>\n",
       "      <th>min</th>\n",
       "      <td>1.100000</td>\n",
       "      <td>17.000000</td>\n",
       "    </tr>\n",
       "    <tr>\n",
       "      <th>25%</th>\n",
       "      <td>2.700000</td>\n",
       "      <td>30.000000</td>\n",
       "    </tr>\n",
       "    <tr>\n",
       "      <th>50%</th>\n",
       "      <td>4.800000</td>\n",
       "      <td>47.000000</td>\n",
       "    </tr>\n",
       "    <tr>\n",
       "      <th>75%</th>\n",
       "      <td>7.400000</td>\n",
       "      <td>75.000000</td>\n",
       "    </tr>\n",
       "    <tr>\n",
       "      <th>max</th>\n",
       "      <td>9.200000</td>\n",
       "      <td>95.000000</td>\n",
       "    </tr>\n",
       "  </tbody>\n",
       "</table>\n",
       "</div>"
      ],
      "text/plain": [
       "           Hours     Scores\n",
       "count  25.000000  25.000000\n",
       "mean    5.012000  51.480000\n",
       "std     2.525094  25.286887\n",
       "min     1.100000  17.000000\n",
       "25%     2.700000  30.000000\n",
       "50%     4.800000  47.000000\n",
       "75%     7.400000  75.000000\n",
       "max     9.200000  95.000000"
      ]
     },
     "execution_count": 12,
     "metadata": {},
     "output_type": "execute_result"
    }
   ],
   "source": [
    "df.describe()"
   ]
  },
  {
   "cell_type": "code",
   "execution_count": 13,
   "id": "2eb19ba9",
   "metadata": {
    "execution": {
     "iopub.execute_input": "2025-05-18T21:36:17.126062Z",
     "iopub.status.busy": "2025-05-18T21:36:17.125703Z",
     "iopub.status.idle": "2025-05-18T21:36:17.132723Z",
     "shell.execute_reply": "2025-05-18T21:36:17.131625Z"
    },
    "papermill": {
     "duration": 0.021448,
     "end_time": "2025-05-18T21:36:17.134719",
     "exception": false,
     "start_time": "2025-05-18T21:36:17.113271",
     "status": "completed"
    },
    "tags": []
   },
   "outputs": [
    {
     "data": {
      "text/html": [
       "\n",
       "    <div style=\"\n",
       "        font-size: 25px;\n",
       "        width: 50%;\n",
       "        color: #2C3E50;  /* رنگ متن تیره مناسب پس‌زمینه سفید */\n",
       "        text-shadow: 1px 1px 2px rgba(0,0,0,0.1);  /* سایه ملایم */\n",
       "        text-align: left;\n",
       "        border-bottom: 2px solid #2980B9;  /* خط آبی زیبا زیر متن */\n",
       "        margin-top: 20px;\n",
       "        margin-bottom: 10px;\n",
       "        font-weight: bold;\n",
       "        font-family: 'Segoe UI', Tahoma, Geneva, Verdana, sans-serif;\n",
       "    \">\n",
       "        Check The datatype\n",
       "    </div>\n",
       "    "
      ],
      "text/plain": [
       "<IPython.core.display.HTML object>"
      ]
     },
     "metadata": {},
     "output_type": "display_data"
    }
   ],
   "source": [
    "show_title('Check The datatype')"
   ]
  },
  {
   "cell_type": "code",
   "execution_count": 14,
   "id": "7db31268",
   "metadata": {
    "execution": {
     "iopub.execute_input": "2025-05-18T21:36:17.159631Z",
     "iopub.status.busy": "2025-05-18T21:36:17.159194Z",
     "iopub.status.idle": "2025-05-18T21:36:17.194982Z",
     "shell.execute_reply": "2025-05-18T21:36:17.193049Z"
    },
    "papermill": {
     "duration": 0.051016,
     "end_time": "2025-05-18T21:36:17.197329",
     "exception": false,
     "start_time": "2025-05-18T21:36:17.146313",
     "status": "completed"
    },
    "tags": []
   },
   "outputs": [
    {
     "name": "stdout",
     "output_type": "stream",
     "text": [
      "<class 'pandas.core.frame.DataFrame'>\n",
      "RangeIndex: 25 entries, 0 to 24\n",
      "Data columns (total 2 columns):\n",
      " #   Column  Non-Null Count  Dtype  \n",
      "---  ------  --------------  -----  \n",
      " 0   Hours   25 non-null     float64\n",
      " 1   Scores  25 non-null     int64  \n",
      "dtypes: float64(1), int64(1)\n",
      "memory usage: 532.0 bytes\n"
     ]
    }
   ],
   "source": [
    "df.info()"
   ]
  },
  {
   "cell_type": "code",
   "execution_count": 15,
   "id": "829399bb",
   "metadata": {
    "execution": {
     "iopub.execute_input": "2025-05-18T21:36:17.224254Z",
     "iopub.status.busy": "2025-05-18T21:36:17.223183Z",
     "iopub.status.idle": "2025-05-18T21:36:17.230761Z",
     "shell.execute_reply": "2025-05-18T21:36:17.229673Z"
    },
    "papermill": {
     "duration": 0.022755,
     "end_time": "2025-05-18T21:36:17.232875",
     "exception": false,
     "start_time": "2025-05-18T21:36:17.210120",
     "status": "completed"
    },
    "tags": []
   },
   "outputs": [
    {
     "data": {
      "text/html": [
       "\n",
       "    <div style=\"\n",
       "        font-size: 25px;\n",
       "        width: 50%;\n",
       "        color: #2C3E50;  /* رنگ متن تیره مناسب پس‌زمینه سفید */\n",
       "        text-shadow: 1px 1px 2px rgba(0,0,0,0.1);  /* سایه ملایم */\n",
       "        text-align: left;\n",
       "        border-bottom: 2px solid #2980B9;  /* خط آبی زیبا زیر متن */\n",
       "        margin-top: 20px;\n",
       "        margin-bottom: 10px;\n",
       "        font-weight: bold;\n",
       "        font-family: 'Segoe UI', Tahoma, Geneva, Verdana, sans-serif;\n",
       "    \">\n",
       "        🧹 Data Cleaning\n",
       "    </div>\n",
       "    "
      ],
      "text/plain": [
       "<IPython.core.display.HTML object>"
      ]
     },
     "metadata": {},
     "output_type": "display_data"
    }
   ],
   "source": [
    "show_title(\"🧹 Data Cleaning\")"
   ]
  },
  {
   "cell_type": "code",
   "execution_count": 16,
   "id": "7d065ef4",
   "metadata": {
    "execution": {
     "iopub.execute_input": "2025-05-18T21:36:17.336093Z",
     "iopub.status.busy": "2025-05-18T21:36:17.335738Z",
     "iopub.status.idle": "2025-05-18T21:36:17.343908Z",
     "shell.execute_reply": "2025-05-18T21:36:17.342503Z"
    },
    "papermill": {
     "duration": 0.101481,
     "end_time": "2025-05-18T21:36:17.346384",
     "exception": false,
     "start_time": "2025-05-18T21:36:17.244903",
     "status": "completed"
    },
    "tags": []
   },
   "outputs": [
    {
     "data": {
      "text/html": [
       "\n",
       "    <div style=\"\n",
       "        font-size: 25px;\n",
       "        width: 50%;\n",
       "        color: #2C3E50;  /* رنگ متن تیره مناسب پس‌زمینه سفید */\n",
       "        text-shadow: 1px 1px 2px rgba(0,0,0,0.1);  /* سایه ملایم */\n",
       "        text-align: left;\n",
       "        border-bottom: 2px solid #2980B9;  /* خط آبی زیبا زیر متن */\n",
       "        margin-top: 20px;\n",
       "        margin-bottom: 10px;\n",
       "        font-weight: bold;\n",
       "        font-family: 'Segoe UI', Tahoma, Geneva, Verdana, sans-serif;\n",
       "    \">\n",
       "        Checking Data duplicated\n",
       "    </div>\n",
       "    "
      ],
      "text/plain": [
       "<IPython.core.display.HTML object>"
      ]
     },
     "metadata": {},
     "output_type": "display_data"
    }
   ],
   "source": [
    "show_title(\"Checking Data duplicated\")"
   ]
  },
  {
   "cell_type": "code",
   "execution_count": 17,
   "id": "76b30c98",
   "metadata": {
    "execution": {
     "iopub.execute_input": "2025-05-18T21:36:17.373219Z",
     "iopub.status.busy": "2025-05-18T21:36:17.372850Z",
     "iopub.status.idle": "2025-05-18T21:36:17.381677Z",
     "shell.execute_reply": "2025-05-18T21:36:17.380086Z"
    },
    "papermill": {
     "duration": 0.025249,
     "end_time": "2025-05-18T21:36:17.384083",
     "exception": false,
     "start_time": "2025-05-18T21:36:17.358834",
     "status": "completed"
    },
    "tags": []
   },
   "outputs": [
    {
     "data": {
      "text/plain": [
       "0"
      ]
     },
     "execution_count": 17,
     "metadata": {},
     "output_type": "execute_result"
    }
   ],
   "source": [
    "df.duplicated().sum()"
   ]
  },
  {
   "cell_type": "code",
   "execution_count": 18,
   "id": "17706f39",
   "metadata": {
    "execution": {
     "iopub.execute_input": "2025-05-18T21:36:17.411087Z",
     "iopub.status.busy": "2025-05-18T21:36:17.410682Z",
     "iopub.status.idle": "2025-05-18T21:36:17.419231Z",
     "shell.execute_reply": "2025-05-18T21:36:17.417892Z"
    },
    "papermill": {
     "duration": 0.024297,
     "end_time": "2025-05-18T21:36:17.421444",
     "exception": false,
     "start_time": "2025-05-18T21:36:17.397147",
     "status": "completed"
    },
    "tags": []
   },
   "outputs": [
    {
     "data": {
      "text/html": [
       "\n",
       "    <div style=\"\n",
       "        font-size: 25px;\n",
       "        width: 50%;\n",
       "        color: #2C3E50;  /* رنگ متن تیره مناسب پس‌زمینه سفید */\n",
       "        text-shadow: 1px 1px 2px rgba(0,0,0,0.1);  /* سایه ملایم */\n",
       "        text-align: left;\n",
       "        border-bottom: 2px solid #2980B9;  /* خط آبی زیبا زیر متن */\n",
       "        margin-top: 20px;\n",
       "        margin-bottom: 10px;\n",
       "        font-weight: bold;\n",
       "        font-family: 'Segoe UI', Tahoma, Geneva, Verdana, sans-serif;\n",
       "    \">\n",
       "        Checking Data isnull\n",
       "    </div>\n",
       "    "
      ],
      "text/plain": [
       "<IPython.core.display.HTML object>"
      ]
     },
     "metadata": {},
     "output_type": "display_data"
    }
   ],
   "source": [
    "show_title(\"Checking Data isnull\")"
   ]
  },
  {
   "cell_type": "code",
   "execution_count": 19,
   "id": "f19d6f5e",
   "metadata": {
    "execution": {
     "iopub.execute_input": "2025-05-18T21:36:17.450552Z",
     "iopub.status.busy": "2025-05-18T21:36:17.448824Z",
     "iopub.status.idle": "2025-05-18T21:36:17.458919Z",
     "shell.execute_reply": "2025-05-18T21:36:17.457922Z"
    },
    "papermill": {
     "duration": 0.026734,
     "end_time": "2025-05-18T21:36:17.461038",
     "exception": false,
     "start_time": "2025-05-18T21:36:17.434304",
     "status": "completed"
    },
    "tags": []
   },
   "outputs": [
    {
     "data": {
      "text/plain": [
       "Hours     0\n",
       "Scores    0\n",
       "dtype: int64"
      ]
     },
     "execution_count": 19,
     "metadata": {},
     "output_type": "execute_result"
    }
   ],
   "source": [
    "df.isnull().sum()"
   ]
  },
  {
   "cell_type": "code",
   "execution_count": 20,
   "id": "297edfb8",
   "metadata": {
    "execution": {
     "iopub.execute_input": "2025-05-18T21:36:17.488717Z",
     "iopub.status.busy": "2025-05-18T21:36:17.488273Z",
     "iopub.status.idle": "2025-05-18T21:36:17.495458Z",
     "shell.execute_reply": "2025-05-18T21:36:17.493885Z"
    },
    "papermill": {
     "duration": 0.023843,
     "end_time": "2025-05-18T21:36:17.497794",
     "exception": false,
     "start_time": "2025-05-18T21:36:17.473951",
     "status": "completed"
    },
    "tags": []
   },
   "outputs": [
    {
     "data": {
      "text/html": [
       "\n",
       "    <div style=\"\n",
       "        font-size: 25px;\n",
       "        width: 50%;\n",
       "        color: #2C3E50;  /* رنگ متن تیره مناسب پس‌زمینه سفید */\n",
       "        text-shadow: 1px 1px 2px rgba(0,0,0,0.1);  /* سایه ملایم */\n",
       "        text-align: left;\n",
       "        border-bottom: 2px solid #2980B9;  /* خط آبی زیبا زیر متن */\n",
       "        margin-top: 20px;\n",
       "        margin-bottom: 10px;\n",
       "        font-weight: bold;\n",
       "        font-family: 'Segoe UI', Tahoma, Geneva, Verdana, sans-serif;\n",
       "    \">\n",
       "        Delete Data dropna\n",
       "    </div>\n",
       "    "
      ],
      "text/plain": [
       "<IPython.core.display.HTML object>"
      ]
     },
     "metadata": {},
     "output_type": "display_data"
    }
   ],
   "source": [
    "show_title(\"Delete Data dropna\")"
   ]
  },
  {
   "cell_type": "code",
   "execution_count": 21,
   "id": "b8a688a2",
   "metadata": {
    "execution": {
     "iopub.execute_input": "2025-05-18T21:36:17.524701Z",
     "iopub.status.busy": "2025-05-18T21:36:17.524293Z",
     "iopub.status.idle": "2025-05-18T21:36:17.532100Z",
     "shell.execute_reply": "2025-05-18T21:36:17.530435Z"
    },
    "papermill": {
     "duration": 0.024374,
     "end_time": "2025-05-18T21:36:17.534860",
     "exception": false,
     "start_time": "2025-05-18T21:36:17.510486",
     "status": "completed"
    },
    "tags": []
   },
   "outputs": [],
   "source": [
    "df.dropna(inplace=True)"
   ]
  },
  {
   "cell_type": "code",
   "execution_count": 22,
   "id": "4235b9ff",
   "metadata": {
    "execution": {
     "iopub.execute_input": "2025-05-18T21:36:17.563829Z",
     "iopub.status.busy": "2025-05-18T21:36:17.563363Z",
     "iopub.status.idle": "2025-05-18T21:36:17.989064Z",
     "shell.execute_reply": "2025-05-18T21:36:17.987964Z"
    },
    "papermill": {
     "duration": 0.442856,
     "end_time": "2025-05-18T21:36:17.991386",
     "exception": false,
     "start_time": "2025-05-18T21:36:17.548530",
     "status": "completed"
    },
    "tags": []
   },
   "outputs": [
    {
     "data": {
      "image/png": "[encoded data removed]",
      "text/plain": [
       "<Figure size 640x480 with 1 Axes>"
      ]
     },
     "metadata": {},
     "output_type": "display_data"
    }
   ],
   "source": [
    "sns.scatterplot(x=df['Hours'], y=df['Scores'], s=100,color='#33ffbe',edgecolor='blue',        # رنگ دور دایره\n",
    "    linewidth=1.5)\n",
    "plt.title('Student & Scores',fontsize=16, color='darkblue')\n",
    "plt.xlabel('Hourse', fontsize=14, color='darkgreen')\n",
    "plt.ylabel('Scores', fontsize=14, color='darkgreen')\n",
    "plt.grid(True, alpha=0.3)\n",
    "plt.xticks()\n",
    "plt.show()\n",
    "\n"
   ]
  },
  {
   "cell_type": "code",
   "execution_count": 23,
   "id": "1d870d52",
   "metadata": {
    "execution": {
     "iopub.execute_input": "2025-05-18T21:36:18.021165Z",
     "iopub.status.busy": "2025-05-18T21:36:18.020757Z",
     "iopub.status.idle": "2025-05-18T21:36:18.861320Z",
     "shell.execute_reply": "2025-05-18T21:36:18.860135Z"
    },
    "papermill": {
     "duration": 0.85832,
     "end_time": "2025-05-18T21:36:18.863757",
     "exception": false,
     "start_time": "2025-05-18T21:36:18.005437",
     "status": "completed"
    },
    "tags": []
   },
   "outputs": [],
   "source": [
    "from sklearn.model_selection import train_test_split\n",
    "from sklearn.linear_model import LinearRegression\n",
    "from sklearn import metrics"
   ]
  },
  {
   "cell_type": "code",
   "execution_count": 24,
   "id": "3f5ebf49",
   "metadata": {
    "execution": {
     "iopub.execute_input": "2025-05-18T21:36:18.892931Z",
     "iopub.status.busy": "2025-05-18T21:36:18.892519Z",
     "iopub.status.idle": "2025-05-18T21:36:18.899115Z",
     "shell.execute_reply": "2025-05-18T21:36:18.897821Z"
    },
    "papermill": {
     "duration": 0.023451,
     "end_time": "2025-05-18T21:36:18.901007",
     "exception": false,
     "start_time": "2025-05-18T21:36:18.877556",
     "status": "completed"
    },
    "tags": []
   },
   "outputs": [],
   "source": [
    "X =df['Hours'].values.reshape(-1,1)\n",
    "Y = df['Scores'].values.reshape(-1,1)"
   ]
  },
  {
   "cell_type": "code",
   "execution_count": 25,
   "id": "c09fd79c",
   "metadata": {
    "execution": {
     "iopub.execute_input": "2025-05-18T21:36:18.930993Z",
     "iopub.status.busy": "2025-05-18T21:36:18.930604Z",
     "iopub.status.idle": "2025-05-18T21:36:18.939016Z",
     "shell.execute_reply": "2025-05-18T21:36:18.937248Z"
    },
    "papermill": {
     "duration": 0.026494,
     "end_time": "2025-05-18T21:36:18.941708",
     "exception": false,
     "start_time": "2025-05-18T21:36:18.915214",
     "status": "completed"
    },
    "tags": []
   },
   "outputs": [],
   "source": [
    "X_train,X_test,Y_train,Y_test = train_test_split(X,Y,test_size=0.2,random_state=0)"
   ]
  },
  {
   "cell_type": "code",
   "execution_count": 26,
   "id": "2b0bb664",
   "metadata": {
    "execution": {
     "iopub.execute_input": "2025-05-18T21:36:18.971273Z",
     "iopub.status.busy": "2025-05-18T21:36:18.970329Z",
     "iopub.status.idle": "2025-05-18T21:36:18.976761Z",
     "shell.execute_reply": "2025-05-18T21:36:18.975116Z"
    },
    "papermill": {
     "duration": 0.023675,
     "end_time": "2025-05-18T21:36:18.979244",
     "exception": false,
     "start_time": "2025-05-18T21:36:18.955569",
     "status": "completed"
    },
    "tags": []
   },
   "outputs": [],
   "source": [
    "regresore = LinearRegression()"
   ]
  },
  {
   "cell_type": "code",
   "execution_count": 27,
   "id": "b034e212",
   "metadata": {
    "execution": {
     "iopub.execute_input": "2025-05-18T21:36:19.008087Z",
     "iopub.status.busy": "2025-05-18T21:36:19.007668Z",
     "iopub.status.idle": "2025-05-18T21:36:19.052265Z",
     "shell.execute_reply": "2025-05-18T21:36:19.051068Z"
    },
    "papermill": {
     "duration": 0.061064,
     "end_time": "2025-05-18T21:36:19.054095",
     "exception": false,
     "start_time": "2025-05-18T21:36:18.993031",
     "status": "completed"
    },
    "tags": []
   },
   "outputs": [
    {
     "data": {
      "text/html": [
       "<style>#sk-container-id-1 {color: black;background-color: white;}#sk-container-id-1 pre{padding: 0;}#sk-container-id-1 div.sk-toggleable {background-color: white;}#sk-container-id-1 label.sk-toggleable__label {cursor: pointer;display: block;width: 100%;margin-bottom: 0;padding: 0.3em;box-sizing: border-box;text-align: center;}#sk-container-id-1 label.sk-toggleable__label-arrow:before {content: \"▸\";float: left;margin-right: 0.25em;color: #696969;}#sk-container-id-1 label.sk-toggleable__label-arrow:hover:before {color: black;}#sk-container-id-1 div.sk-estimator:hover label.sk-toggleable__label-arrow:before {color: black;}#sk-container-id-1 div.sk-toggleable__content {max-height: 0;max-width: 0;overflow: hidden;text-align: left;background-color: #f0f8ff;}#sk-container-id-1 div.sk-toggleable__content pre {margin: 0.2em;color: black;border-radius: 0.25em;background-color: #f0f8ff;}#sk-container-id-1 input.sk-toggleable__control:checked~div.sk-toggleable__content {max-height: 200px;max-width: 100%;overflow: auto;}#sk-container-id-1 input.sk-toggleable__control:checked~label.sk-toggleable__label-arrow:before {content: \"▾\";}#sk-container-id-1 div.sk-estimator input.sk-toggleable__control:checked~label.sk-toggleable__label {background-color: #d4ebff;}#sk-container-id-1 div.sk-label input.sk-toggleable__control:checked~label.sk-toggleable__label {background-color: #d4ebff;}#sk-container-id-1 input.sk-hidden--visually {border: 0;clip: rect(1px 1px 1px 1px);clip: rect(1px, 1px, 1px, 1px);height: 1px;margin: -1px;overflow: hidden;padding: 0;position: absolute;width: 1px;}#sk-container-id-1 div.sk-estimator {font-family: monospace;background-color: #f0f8ff;border: 1px dotted black;border-radius: 0.25em;box-sizing: border-box;margin-bottom: 0.5em;}#sk-container-id-1 div.sk-estimator:hover {background-color: #d4ebff;}#sk-container-id-1 div.sk-parallel-item::after {content: \"\";width: 100%;border-bottom: 1px solid gray;flex-grow: 1;}#sk-container-id-1 div.sk-label:hover label.sk-toggleable__label {background-color: #d4ebff;}#sk-container-id-1 div.sk-serial::before {content: \"\";position: absolute;border-left: 1px solid gray;box-sizing: border-box;top: 0;bottom: 0;left: 50%;z-index: 0;}#sk-container-id-1 div.sk-serial {display: flex;flex-direction: column;align-items: center;background-color: white;padding-right: 0.2em;padding-left: 0.2em;position: relative;}#sk-container-id-1 div.sk-item {position: relative;z-index: 1;}#sk-container-id-1 div.sk-parallel {display: flex;align-items: stretch;justify-content: center;background-color: white;position: relative;}#sk-container-id-1 div.sk-item::before, #sk-container-id-1 div.sk-parallel-item::before {content: \"\";position: absolute;border-left: 1px solid gray;box-sizing: border-box;top: 0;bottom: 0;left: 50%;z-index: -1;}#sk-container-id-1 div.sk-parallel-item {display: flex;flex-direction: column;z-index: 1;position: relative;background-color: white;}#sk-container-id-1 div.sk-parallel-item:first-child::after {align-self: flex-end;width: 50%;}#sk-container-id-1 div.sk-parallel-item:last-child::after {align-self: flex-start;width: 50%;}#sk-container-id-1 div.sk-parallel-item:only-child::after {width: 0;}#sk-container-id-1 div.sk-dashed-wrapped {border: 1px dashed gray;margin: 0 0.4em 0.5em 0.4em;box-sizing: border-box;padding-bottom: 0.4em;background-color: white;}#sk-container-id-1 div.sk-label label {font-family: monospace;font-weight: bold;display: inline-block;line-height: 1.2em;}#sk-container-id-1 div.sk-label-container {text-align: center;}#sk-container-id-1 div.sk-container {/* jupyter's `normalize.less` sets `[hidden] { display: none; }` but bootstrap.min.css set `[hidden] { display: none !important; }` so we also need the `!important` here to be able to override the default hidden behavior on the sphinx rendered scikit-learn.org. See: https://github.com/scikit-learn/scikit-learn/issues/21755 */display: inline-block !important;position: relative;}#sk-container-id-1 div.sk-text-repr-fallback {display: none;}</style><div id=\"sk-container-id-1\" class=\"sk-top-container\"><div class=\"sk-text-repr-fallback\"><pre>LinearRegression()</pre><b>In a Jupyter environment, please rerun this cell to show the HTML representation or trust the notebook. <br />On GitHub, the HTML representation is unable to render, please try loading this page with nbviewer.org.</b></div><div class=\"sk-container\" hidden><div class=\"sk-item\"><div class=\"sk-estimator sk-toggleable\"><input class=\"sk-toggleable__control sk-hidden--visually\" id=\"sk-estimator-id-1\" type=\"checkbox\" checked><label for=\"sk-estimator-id-1\" class=\"sk-toggleable__label sk-toggleable__label-arrow\">LinearRegression</label><div class=\"sk-toggleable__content\"><pre>LinearRegression()</pre></div></div></div></div></div>"
      ],
      "text/plain": [
       "LinearRegression()"
      ]
     },
     "execution_count": 27,
     "metadata": {},
     "output_type": "execute_result"
    }
   ],
   "source": [
    "regresore.fit(X_train , Y_train)"
   ]
  },
  {
   "cell_type": "code",
   "execution_count": 28,
   "id": "c4c0bc44",
   "metadata": {
    "execution": {
     "iopub.execute_input": "2025-05-18T21:36:19.083083Z",
     "iopub.status.busy": "2025-05-18T21:36:19.082706Z",
     "iopub.status.idle": "2025-05-18T21:36:19.355200Z",
     "shell.execute_reply": "2025-05-18T21:36:19.353361Z"
    },
    "papermill": {
     "duration": 0.289492,
     "end_time": "2025-05-18T21:36:19.357455",
     "exception": false,
     "start_time": "2025-05-18T21:36:19.067963",
     "status": "completed"
    },
    "tags": []
   },
   "outputs": [
    {
     "data": {
      "image/png": "[encoded data removed]",
      "text/plain": [
       "<Figure size 640x480 with 1 Axes>"
      ]
     },
     "metadata": {},
     "output_type": "display_data"
    }
   ],
   "source": [
    "\n",
    "sns.scatterplot(x=X_train.ravel(), y=Y_train.ravel(), s=100,color='#33ffbe',edgecolor='blue',        # رنگ دور دایره\n",
    "    linewidth=1.5)\n",
    "plt.title('Student & Scores',fontsize=16, color='darkblue')\n",
    "plt.xlabel('Hourse', fontsize=14, color='darkgreen')\n",
    "plt.ylabel('Scores', fontsize=14, color='darkgreen')\n",
    "plt.grid(True, alpha=0.3)\n",
    "plt.xticks()\n",
    "plt.show()"
   ]
  },
  {
   "cell_type": "code",
   "execution_count": 29,
   "id": "004148cf",
   "metadata": {
    "execution": {
     "iopub.execute_input": "2025-05-18T21:36:19.391593Z",
     "iopub.status.busy": "2025-05-18T21:36:19.389280Z",
     "iopub.status.idle": "2025-05-18T21:36:19.397133Z",
     "shell.execute_reply": "2025-05-18T21:36:19.395730Z"
    },
    "papermill": {
     "duration": 0.026319,
     "end_time": "2025-05-18T21:36:19.399325",
     "exception": false,
     "start_time": "2025-05-18T21:36:19.373006",
     "status": "completed"
    },
    "tags": []
   },
   "outputs": [],
   "source": [
    "Y_pred = regresore.predict(X_test)"
   ]
  },
  {
   "cell_type": "code",
   "execution_count": 30,
   "id": "9de9b91a",
   "metadata": {
    "execution": {
     "iopub.execute_input": "2025-05-18T21:36:19.431037Z",
     "iopub.status.busy": "2025-05-18T21:36:19.430653Z",
     "iopub.status.idle": "2025-05-18T21:36:19.438271Z",
     "shell.execute_reply": "2025-05-18T21:36:19.436629Z"
    },
    "papermill": {
     "duration": 0.026185,
     "end_time": "2025-05-18T21:36:19.440389",
     "exception": false,
     "start_time": "2025-05-18T21:36:19.414204",
     "status": "completed"
    },
    "tags": []
   },
   "outputs": [
    {
     "name": "stdout",
     "output_type": "stream",
     "text": [
      "[2.01816004]\n",
      "[[9.91065648]]\n"
     ]
    }
   ],
   "source": [
    "#intercept\n",
    "print(regresore.intercept_)\n",
    "#slop\n",
    "print(regresore.coef_)"
   ]
  },
  {
   "cell_type": "code",
   "execution_count": 31,
   "id": "6203e8f8",
   "metadata": {
    "execution": {
     "iopub.execute_input": "2025-05-18T21:36:19.471540Z",
     "iopub.status.busy": "2025-05-18T21:36:19.470847Z",
     "iopub.status.idle": "2025-05-18T21:36:19.756713Z",
     "shell.execute_reply": "2025-05-18T21:36:19.755009Z"
    },
    "papermill": {
     "duration": 0.304108,
     "end_time": "2025-05-18T21:36:19.758977",
     "exception": false,
     "start_time": "2025-05-18T21:36:19.454869",
     "status": "completed"
    },
    "tags": []
   },
   "outputs": [
    {
     "data": {
      "image/png": "[encoded data removed]",
      "text/plain": [
       "<Figure size 800x640 with 1 Axes>"
      ]
     },
     "metadata": {},
     "output_type": "display_data"
    }
   ],
   "source": [
    "plt.figure(figsize=(10,8),dpi=80)\n",
    "\n",
    "sns.scatterplot(x=X_train.ravel(), y=Y_train.ravel(), s=100,color='#33ffbe',edgecolor='blue',        # رنگ دور دایره\n",
    "    linewidth=1.5)\n",
    "plt.title('Student & Scores',fontsize=16, color='darkblue')\n",
    "plt.xlabel('Hourse', fontsize=14, color='darkgreen')\n",
    "plt.ylabel('Scores', fontsize=14, color='darkgreen')\n",
    "plt.grid(True, alpha=0.3)\n",
    "plt.xticks()\n",
    "plt.show()"
   ]
  },
  {
   "cell_type": "code",
   "execution_count": 32,
   "id": "1262bcc8",
   "metadata": {
    "execution": {
     "iopub.execute_input": "2025-05-18T21:36:19.792761Z",
     "iopub.status.busy": "2025-05-18T21:36:19.792293Z",
     "iopub.status.idle": "2025-05-18T21:36:19.799233Z",
     "shell.execute_reply": "2025-05-18T21:36:19.797656Z"
    },
    "papermill": {
     "duration": 0.026554,
     "end_time": "2025-05-18T21:36:19.801198",
     "exception": false,
     "start_time": "2025-05-18T21:36:19.774644",
     "status": "completed"
    },
    "tags": []
   },
   "outputs": [
    {
     "name": "stdout",
     "output_type": "stream",
     "text": [
      "1.2.2\n"
     ]
    }
   ],
   "source": [
    "import sklearn\n",
    "print(sklearn.__version__)\n"
   ]
  },
  {
   "cell_type": "code",
   "execution_count": 33,
   "id": "c9117098",
   "metadata": {
    "execution": {
     "iopub.execute_input": "2025-05-18T21:36:19.836033Z",
     "iopub.status.busy": "2025-05-18T21:36:19.835129Z",
     "iopub.status.idle": "2025-05-18T21:36:19.844315Z",
     "shell.execute_reply": "2025-05-18T21:36:19.842951Z"
    },
    "papermill": {
     "duration": 0.028789,
     "end_time": "2025-05-18T21:36:19.846150",
     "exception": false,
     "start_time": "2025-05-18T21:36:19.817361",
     "status": "completed"
    },
    "tags": []
   },
   "outputs": [
    {
     "name": "stdout",
     "output_type": "stream",
     "text": [
      "Mean Absolute Error (MAE): 4.183859899002982\n",
      "Mean Squared Error (MSE): 21.598769307217456\n",
      "Root Mean Squared Error (RMSE): 4.647447612100373\n",
      "R² Score: 0.9454906892105354\n"
     ]
    }
   ],
   "source": [
    "print('Mean Absolute Error (MAE):', metrics.mean_absolute_error(Y_test, Y_pred))\n",
    "print('Mean Squared Error (MSE):', metrics.mean_squared_error(Y_test, Y_pred))\n",
    "print('Root Mean Squared Error (RMSE):', np.sqrt(metrics.mean_squared_error(Y_test, Y_pred)))\n",
    "print('R² Score:', metrics.r2_score(Y_test, Y_pred))\n"
   ]
  },
  {
   "cell_type": "code",
   "execution_count": 34,
   "id": "ac2425ba",
   "metadata": {
    "execution": {
     "iopub.execute_input": "2025-05-18T21:36:19.882579Z",
     "iopub.status.busy": "2025-05-18T21:36:19.881868Z",
     "iopub.status.idle": "2025-05-18T21:36:19.888444Z",
     "shell.execute_reply": "2025-05-18T21:36:19.887218Z"
    },
    "papermill": {
     "duration": 0.027738,
     "end_time": "2025-05-18T21:36:19.890341",
     "exception": false,
     "start_time": "2025-05-18T21:36:19.862603",
     "status": "completed"
    },
    "tags": []
   },
   "outputs": [
    {
     "name": "stdout",
     "output_type": "stream",
     "text": [
      "X_test shape: (5, 1)\n",
      "Y_test shape: (5, 1)\n",
      "Y_pred shape: (5, 1)\n"
     ]
    }
   ],
   "source": [
    "print(\"X_test shape:\", X_test.shape)\n",
    "print(\"Y_test shape:\", Y_test.shape)\n",
    "print(\"Y_pred shape:\", Y_pred.shape)\n"
   ]
  },
  {
   "cell_type": "code",
   "execution_count": 35,
   "id": "6eeab798",
   "metadata": {
    "execution": {
     "iopub.execute_input": "2025-05-18T21:36:19.924876Z",
     "iopub.status.busy": "2025-05-18T21:36:19.924488Z",
     "iopub.status.idle": "2025-05-18T21:36:20.236068Z",
     "shell.execute_reply": "2025-05-18T21:36:20.234686Z"
    },
    "papermill": {
     "duration": 0.331746,
     "end_time": "2025-05-18T21:36:20.238564",
     "exception": false,
     "start_time": "2025-05-18T21:36:19.906818",
     "status": "completed"
    },
    "tags": []
   },
   "outputs": [
    {
     "data": {
      "image/png": "[encoded data removed]",
      "text/plain": [
       "<Figure size 640x480 with 1 Axes>"
      ]
     },
     "metadata": {},
     "output_type": "display_data"
    }
   ],
   "source": [
    "sns.scatterplot(\n",
    "    x=X_test.ravel(), \n",
    "    y=Y_test.ravel(), \n",
    "    s=100,\n",
    "    color='#33ffbe',\n",
    "    edgecolor='blue',\n",
    "    linewidth=1.5,\n",
    "    label='Real'\n",
    ")\n",
    "\n",
    "\n",
    "sns.scatterplot(\n",
    "    x=X_test.ravel(), \n",
    "    y=Y_pred.ravel(), \n",
    "    s=100,\n",
    "    color='red',\n",
    "    alpha=0.5,\n",
    "    edgecolor='darkred',\n",
    "    linewidth=1.5,\n",
    "    label='Predicted'\n",
    ")\n",
    "\n",
    "plt.title('Student & Scores', fontsize=16, color='darkblue')\n",
    "plt.xlabel('Hours', fontsize=14, color='darkgreen')\n",
    "plt.ylabel('Scores', fontsize=14, color='darkgreen')\n",
    "plt.grid(True, alpha=0.3)\n",
    "plt.xticks(fontsize=12)\n",
    "plt.yticks(fontsize=12)\n",
    "plt.legend()\n",
    "plt.show()\n"
   ]
  },
  {
   "cell_type": "code",
   "execution_count": 36,
   "id": "6b434743",
   "metadata": {
    "execution": {
     "iopub.execute_input": "2025-05-18T21:36:20.275387Z",
     "iopub.status.busy": "2025-05-18T21:36:20.275031Z",
     "iopub.status.idle": "2025-05-18T21:36:20.539094Z",
     "shell.execute_reply": "2025-05-18T21:36:20.537337Z"
    },
    "papermill": {
     "duration": 0.284206,
     "end_time": "2025-05-18T21:36:20.541061",
     "exception": false,
     "start_time": "2025-05-18T21:36:20.256855",
     "status": "completed"
    },
    "tags": []
   },
   "outputs": [
    {
     "data": {
      "image/png": "[encoded data removed]",
      "text/plain": [
       "<Figure size 640x480 with 1 Axes>"
      ]
     },
     "metadata": {},
     "output_type": "display_data"
    }
   ],
   "source": [
    "sns.scatterplot(\n",
    "    x=X_test.ravel(), \n",
    "    y=Y_pred.ravel(), \n",
    "    s=100,\n",
    "    color='red',\n",
    "    alpha=0.5,\n",
    "    edgecolor='darkred',\n",
    "    linewidth=1.5,\n",
    "    label='Predicted'\n",
    ")\n",
    "\n",
    "plt.title('Student & Scores', fontsize=16, color='darkblue')\n",
    "plt.xlabel('Hours', fontsize=14, color='darkgreen')\n",
    "plt.ylabel('Scores', fontsize=14, color='darkgreen')\n",
    "plt.grid(True, alpha=0.3)\n",
    "plt.xticks(fontsize=12)\n",
    "plt.yticks(fontsize=12)\n",
    "plt.legend()\n",
    "plt.show()"
   ]
  },
  {
   "cell_type": "code",
   "execution_count": 37,
   "id": "40fbce18",
   "metadata": {
    "execution": {
     "iopub.execute_input": "2025-05-18T21:36:20.583305Z",
     "iopub.status.busy": "2025-05-18T21:36:20.581183Z",
     "iopub.status.idle": "2025-05-18T21:36:20.595776Z",
     "shell.execute_reply": "2025-05-18T21:36:20.594216Z"
    },
    "papermill": {
     "duration": 0.038813,
     "end_time": "2025-05-18T21:36:20.598311",
     "exception": false,
     "start_time": "2025-05-18T21:36:20.559498",
     "status": "completed"
    },
    "tags": []
   },
   "outputs": [
    {
     "data": {
      "text/html": [
       "<div>\n",
       "<style scoped>\n",
       "    .dataframe tbody tr th:only-of-type {\n",
       "        vertical-align: middle;\n",
       "    }\n",
       "\n",
       "    .dataframe tbody tr th {\n",
       "        vertical-align: top;\n",
       "    }\n",
       "\n",
       "    .dataframe thead th {\n",
       "        text-align: right;\n",
       "    }\n",
       "</style>\n",
       "<table border=\"1\" class=\"dataframe\">\n",
       "  <thead>\n",
       "    <tr style=\"text-align: right;\">\n",
       "      <th></th>\n",
       "      <th>Actual</th>\n",
       "      <th>predicted</th>\n",
       "    </tr>\n",
       "  </thead>\n",
       "  <tbody>\n",
       "    <tr>\n",
       "      <th>0</th>\n",
       "      <td>20</td>\n",
       "      <td>16.884145</td>\n",
       "    </tr>\n",
       "    <tr>\n",
       "      <th>1</th>\n",
       "      <td>27</td>\n",
       "      <td>33.732261</td>\n",
       "    </tr>\n",
       "    <tr>\n",
       "      <th>2</th>\n",
       "      <td>69</td>\n",
       "      <td>75.357018</td>\n",
       "    </tr>\n",
       "    <tr>\n",
       "      <th>3</th>\n",
       "      <td>30</td>\n",
       "      <td>26.794801</td>\n",
       "    </tr>\n",
       "    <tr>\n",
       "      <th>4</th>\n",
       "      <td>62</td>\n",
       "      <td>60.491033</td>\n",
       "    </tr>\n",
       "  </tbody>\n",
       "</table>\n",
       "</div>"
      ],
      "text/plain": [
       "   Actual  predicted\n",
       "0      20  16.884145\n",
       "1      27  33.732261\n",
       "2      69  75.357018\n",
       "3      30  26.794801\n",
       "4      62  60.491033"
      ]
     },
     "execution_count": 37,
     "metadata": {},
     "output_type": "execute_result"
    }
   ],
   "source": [
    "compare = pd.DataFrame({'Actual':Y_test.flatten(),'predicted':Y_pred.flatten()})\n",
    "compare"
   ]
  },
  {
   "cell_type": "code",
   "execution_count": 38,
   "id": "6420b9cc",
   "metadata": {
    "execution": {
     "iopub.execute_input": "2025-05-18T21:36:20.639294Z",
     "iopub.status.busy": "2025-05-18T21:36:20.638866Z",
     "iopub.status.idle": "2025-05-18T21:36:20.967242Z",
     "shell.execute_reply": "2025-05-18T21:36:20.965586Z"
    },
    "papermill": {
     "duration": 0.352023,
     "end_time": "2025-05-18T21:36:20.970202",
     "exception": false,
     "start_time": "2025-05-18T21:36:20.618179",
     "status": "completed"
    },
    "tags": []
   },
   "outputs": [
    {
     "data": {
      "image/png": "[encoded data removed]",
      "text/plain": [
       "<Figure size 640x480 with 1 Axes>"
      ]
     },
     "metadata": {},
     "output_type": "display_data"
    }
   ],
   "source": [
    "a=X_train\n",
    "b=Y_train\n",
    "c=X_test\n",
    "d=Y_pred\n",
    "sns.scatterplot(\n",
    "    x=a.ravel(), \n",
    "    y=b.ravel(), \n",
    "    s=100,\n",
    "    color='red',\n",
    "    alpha=0.5,\n",
    "    edgecolor='darkred',\n",
    "    linewidth=1.5,\n",
    "    label='Predicted'\n",
    ")\n",
    "sns.scatterplot(\n",
    "    x=c.ravel(), \n",
    "    y=d.ravel(), \n",
    "    s=100,\n",
    "    color='blue',\n",
    "    alpha=0.5,\n",
    "    edgecolor='darkred',\n",
    "    linewidth=1.5,\n",
    "    label='Predicted'\n",
    ")\n",
    "plt.title('Student & Scores', fontsize=16, color='darkblue')\n",
    "plt.xlabel('Hours', fontsize=14, color='darkgreen')\n",
    "plt.ylabel('Scores', fontsize=14, color='darkgreen')\n",
    "plt.grid(True, alpha=0.3)\n",
    "plt.xticks(fontsize=12)\n",
    "plt.yticks(fontsize=12)\n",
    "plt.legend()\n",
    "plt.show()"
   ]
  },
  {
   "cell_type": "code",
   "execution_count": 39,
   "id": "86e3afd1",
   "metadata": {
    "execution": {
     "iopub.execute_input": "2025-05-18T21:36:21.014812Z",
     "iopub.status.busy": "2025-05-18T21:36:21.014308Z",
     "iopub.status.idle": "2025-05-18T21:36:21.022957Z",
     "shell.execute_reply": "2025-05-18T21:36:21.021757Z"
    },
    "papermill": {
     "duration": 0.031639,
     "end_time": "2025-05-18T21:36:21.024710",
     "exception": false,
     "start_time": "2025-05-18T21:36:20.993071",
     "status": "completed"
    },
    "tags": []
   },
   "outputs": [
    {
     "data": {
      "text/plain": [
       "Index(['Hours', 'Scores'], dtype='object')"
      ]
     },
     "execution_count": 39,
     "metadata": {},
     "output_type": "execute_result"
    }
   ],
   "source": [
    "df.columns"
   ]
  },
  {
   "cell_type": "code",
   "execution_count": 40,
   "id": "4d50bb77",
   "metadata": {
    "execution": {
     "iopub.execute_input": "2025-05-18T21:36:21.065859Z",
     "iopub.status.busy": "2025-05-18T21:36:21.065438Z",
     "iopub.status.idle": "2025-05-18T21:36:21.072300Z",
     "shell.execute_reply": "2025-05-18T21:36:21.070927Z"
    },
    "papermill": {
     "duration": 0.029236,
     "end_time": "2025-05-18T21:36:21.074113",
     "exception": false,
     "start_time": "2025-05-18T21:36:21.044877",
     "status": "completed"
    },
    "tags": []
   },
   "outputs": [],
   "source": [
    "df2 = pd.DataFrame({\"Hours\":[3.5,5,7,9,6,5],\"Scores\":[0,0,0,0,0,0]})\n"
   ]
  },
  {
   "cell_type": "code",
   "execution_count": 41,
   "id": "c8699218",
   "metadata": {
    "execution": {
     "iopub.execute_input": "2025-05-18T21:36:21.114021Z",
     "iopub.status.busy": "2025-05-18T21:36:21.113645Z",
     "iopub.status.idle": "2025-05-18T21:36:21.126191Z",
     "shell.execute_reply": "2025-05-18T21:36:21.125142Z"
    },
    "papermill": {
     "duration": 0.035399,
     "end_time": "2025-05-18T21:36:21.128633",
     "exception": false,
     "start_time": "2025-05-18T21:36:21.093234",
     "status": "completed"
    },
    "tags": []
   },
   "outputs": [
    {
     "data": {
      "text/html": [
       "<div>\n",
       "<style scoped>\n",
       "    .dataframe tbody tr th:only-of-type {\n",
       "        vertical-align: middle;\n",
       "    }\n",
       "\n",
       "    .dataframe tbody tr th {\n",
       "        vertical-align: top;\n",
       "    }\n",
       "\n",
       "    .dataframe thead th {\n",
       "        text-align: right;\n",
       "    }\n",
       "</style>\n",
       "<table border=\"1\" class=\"dataframe\">\n",
       "  <thead>\n",
       "    <tr style=\"text-align: right;\">\n",
       "      <th></th>\n",
       "      <th>Hours</th>\n",
       "      <th>Scores</th>\n",
       "    </tr>\n",
       "  </thead>\n",
       "  <tbody>\n",
       "    <tr>\n",
       "      <th>0</th>\n",
       "      <td>3.5</td>\n",
       "      <td>0</td>\n",
       "    </tr>\n",
       "    <tr>\n",
       "      <th>1</th>\n",
       "      <td>5.0</td>\n",
       "      <td>0</td>\n",
       "    </tr>\n",
       "    <tr>\n",
       "      <th>2</th>\n",
       "      <td>7.0</td>\n",
       "      <td>0</td>\n",
       "    </tr>\n",
       "    <tr>\n",
       "      <th>3</th>\n",
       "      <td>9.0</td>\n",
       "      <td>0</td>\n",
       "    </tr>\n",
       "    <tr>\n",
       "      <th>4</th>\n",
       "      <td>6.0</td>\n",
       "      <td>0</td>\n",
       "    </tr>\n",
       "    <tr>\n",
       "      <th>5</th>\n",
       "      <td>5.0</td>\n",
       "      <td>0</td>\n",
       "    </tr>\n",
       "  </tbody>\n",
       "</table>\n",
       "</div>"
      ],
      "text/plain": [
       "   Hours  Scores\n",
       "0    3.5       0\n",
       "1    5.0       0\n",
       "2    7.0       0\n",
       "3    9.0       0\n",
       "4    6.0       0\n",
       "5    5.0       0"
      ]
     },
     "execution_count": 41,
     "metadata": {},
     "output_type": "execute_result"
    }
   ],
   "source": [
    "df2"
   ]
  },
  {
   "cell_type": "code",
   "execution_count": 42,
   "id": "68bf018c",
   "metadata": {
    "execution": {
     "iopub.execute_input": "2025-05-18T21:36:21.169955Z",
     "iopub.status.busy": "2025-05-18T21:36:21.169564Z",
     "iopub.status.idle": "2025-05-18T21:36:21.177860Z",
     "shell.execute_reply": "2025-05-18T21:36:21.175758Z"
    },
    "papermill": {
     "duration": 0.030765,
     "end_time": "2025-05-18T21:36:21.179810",
     "exception": false,
     "start_time": "2025-05-18T21:36:21.149045",
     "status": "completed"
    },
    "tags": []
   },
   "outputs": [],
   "source": [
    "df3 = pd.concat([df,df2])"
   ]
  },
  {
   "cell_type": "code",
   "execution_count": 43,
   "id": "4184f53c",
   "metadata": {
    "execution": {
     "iopub.execute_input": "2025-05-18T21:36:21.220156Z",
     "iopub.status.busy": "2025-05-18T21:36:21.219786Z",
     "iopub.status.idle": "2025-05-18T21:36:21.231587Z",
     "shell.execute_reply": "2025-05-18T21:36:21.230184Z"
    },
    "papermill": {
     "duration": 0.034366,
     "end_time": "2025-05-18T21:36:21.233652",
     "exception": false,
     "start_time": "2025-05-18T21:36:21.199286",
     "status": "completed"
    },
    "tags": []
   },
   "outputs": [
    {
     "data": {
      "text/html": [
       "<div>\n",
       "<style scoped>\n",
       "    .dataframe tbody tr th:only-of-type {\n",
       "        vertical-align: middle;\n",
       "    }\n",
       "\n",
       "    .dataframe tbody tr th {\n",
       "        vertical-align: top;\n",
       "    }\n",
       "\n",
       "    .dataframe thead th {\n",
       "        text-align: right;\n",
       "    }\n",
       "</style>\n",
       "<table border=\"1\" class=\"dataframe\">\n",
       "  <thead>\n",
       "    <tr style=\"text-align: right;\">\n",
       "      <th></th>\n",
       "      <th>Hours</th>\n",
       "      <th>Scores</th>\n",
       "    </tr>\n",
       "  </thead>\n",
       "  <tbody>\n",
       "    <tr>\n",
       "      <th>0</th>\n",
       "      <td>2.5</td>\n",
       "      <td>21</td>\n",
       "    </tr>\n",
       "    <tr>\n",
       "      <th>1</th>\n",
       "      <td>5.1</td>\n",
       "      <td>47</td>\n",
       "    </tr>\n",
       "    <tr>\n",
       "      <th>2</th>\n",
       "      <td>3.2</td>\n",
       "      <td>27</td>\n",
       "    </tr>\n",
       "    <tr>\n",
       "      <th>3</th>\n",
       "      <td>8.5</td>\n",
       "      <td>75</td>\n",
       "    </tr>\n",
       "    <tr>\n",
       "      <th>4</th>\n",
       "      <td>3.5</td>\n",
       "      <td>30</td>\n",
       "    </tr>\n",
       "  </tbody>\n",
       "</table>\n",
       "</div>"
      ],
      "text/plain": [
       "   Hours  Scores\n",
       "0    2.5      21\n",
       "1    5.1      47\n",
       "2    3.2      27\n",
       "3    8.5      75\n",
       "4    3.5      30"
      ]
     },
     "execution_count": 43,
     "metadata": {},
     "output_type": "execute_result"
    }
   ],
   "source": [
    "df3.head(5)"
   ]
  },
  {
   "cell_type": "markdown",
   "id": "c9951679",
   "metadata": {
    "papermill": {
     "duration": 0.019632,
     "end_time": "2025-05-18T21:36:21.273787",
     "exception": false,
     "start_time": "2025-05-18T21:36:21.254155",
     "status": "completed"
    },
    "tags": []
   },
   "source": [
    "> **Data Splitting: Train and Test Sets**"
   ]
  },
  {
   "cell_type": "code",
   "execution_count": 44,
   "id": "3b979a4b",
   "metadata": {
    "execution": {
     "iopub.execute_input": "2025-05-18T21:36:21.315540Z",
     "iopub.status.busy": "2025-05-18T21:36:21.315115Z",
     "iopub.status.idle": "2025-05-18T21:36:21.323142Z",
     "shell.execute_reply": "2025-05-18T21:36:21.321317Z"
    },
    "papermill": {
     "duration": 0.032793,
     "end_time": "2025-05-18T21:36:21.326161",
     "exception": false,
     "start_time": "2025-05-18T21:36:21.293368",
     "status": "completed"
    },
    "tags": []
   },
   "outputs": [],
   "source": [
    "train = df3.iloc[:25]\n",
    "test = df3.iloc[25:]"
   ]
  },
  {
   "cell_type": "code",
   "execution_count": 45,
   "id": "d3119e2e",
   "metadata": {
    "execution": {
     "iopub.execute_input": "2025-05-18T21:36:21.369686Z",
     "iopub.status.busy": "2025-05-18T21:36:21.369243Z",
     "iopub.status.idle": "2025-05-18T21:36:21.383954Z",
     "shell.execute_reply": "2025-05-18T21:36:21.382678Z"
    },
    "papermill": {
     "duration": 0.03874,
     "end_time": "2025-05-18T21:36:21.385927",
     "exception": false,
     "start_time": "2025-05-18T21:36:21.347187",
     "status": "completed"
    },
    "tags": []
   },
   "outputs": [
    {
     "data": {
      "text/html": [
       "<div>\n",
       "<style scoped>\n",
       "    .dataframe tbody tr th:only-of-type {\n",
       "        vertical-align: middle;\n",
       "    }\n",
       "\n",
       "    .dataframe tbody tr th {\n",
       "        vertical-align: top;\n",
       "    }\n",
       "\n",
       "    .dataframe thead th {\n",
       "        text-align: right;\n",
       "    }\n",
       "</style>\n",
       "<table border=\"1\" class=\"dataframe\">\n",
       "  <thead>\n",
       "    <tr style=\"text-align: right;\">\n",
       "      <th></th>\n",
       "      <th>Hours</th>\n",
       "      <th>Scores</th>\n",
       "    </tr>\n",
       "  </thead>\n",
       "  <tbody>\n",
       "    <tr>\n",
       "      <th>0</th>\n",
       "      <td>2.5</td>\n",
       "      <td>21</td>\n",
       "    </tr>\n",
       "    <tr>\n",
       "      <th>1</th>\n",
       "      <td>5.1</td>\n",
       "      <td>47</td>\n",
       "    </tr>\n",
       "    <tr>\n",
       "      <th>2</th>\n",
       "      <td>3.2</td>\n",
       "      <td>27</td>\n",
       "    </tr>\n",
       "    <tr>\n",
       "      <th>3</th>\n",
       "      <td>8.5</td>\n",
       "      <td>75</td>\n",
       "    </tr>\n",
       "    <tr>\n",
       "      <th>4</th>\n",
       "      <td>3.5</td>\n",
       "      <td>30</td>\n",
       "    </tr>\n",
       "    <tr>\n",
       "      <th>5</th>\n",
       "      <td>1.5</td>\n",
       "      <td>20</td>\n",
       "    </tr>\n",
       "    <tr>\n",
       "      <th>6</th>\n",
       "      <td>9.2</td>\n",
       "      <td>88</td>\n",
       "    </tr>\n",
       "    <tr>\n",
       "      <th>7</th>\n",
       "      <td>5.5</td>\n",
       "      <td>60</td>\n",
       "    </tr>\n",
       "    <tr>\n",
       "      <th>8</th>\n",
       "      <td>8.3</td>\n",
       "      <td>81</td>\n",
       "    </tr>\n",
       "    <tr>\n",
       "      <th>9</th>\n",
       "      <td>2.7</td>\n",
       "      <td>25</td>\n",
       "    </tr>\n",
       "    <tr>\n",
       "      <th>10</th>\n",
       "      <td>7.7</td>\n",
       "      <td>85</td>\n",
       "    </tr>\n",
       "    <tr>\n",
       "      <th>11</th>\n",
       "      <td>5.9</td>\n",
       "      <td>62</td>\n",
       "    </tr>\n",
       "    <tr>\n",
       "      <th>12</th>\n",
       "      <td>4.5</td>\n",
       "      <td>41</td>\n",
       "    </tr>\n",
       "    <tr>\n",
       "      <th>13</th>\n",
       "      <td>3.3</td>\n",
       "      <td>42</td>\n",
       "    </tr>\n",
       "    <tr>\n",
       "      <th>14</th>\n",
       "      <td>1.1</td>\n",
       "      <td>17</td>\n",
       "    </tr>\n",
       "    <tr>\n",
       "      <th>15</th>\n",
       "      <td>8.9</td>\n",
       "      <td>95</td>\n",
       "    </tr>\n",
       "    <tr>\n",
       "      <th>16</th>\n",
       "      <td>2.5</td>\n",
       "      <td>30</td>\n",
       "    </tr>\n",
       "    <tr>\n",
       "      <th>17</th>\n",
       "      <td>1.9</td>\n",
       "      <td>24</td>\n",
       "    </tr>\n",
       "    <tr>\n",
       "      <th>18</th>\n",
       "      <td>6.1</td>\n",
       "      <td>67</td>\n",
       "    </tr>\n",
       "    <tr>\n",
       "      <th>19</th>\n",
       "      <td>7.4</td>\n",
       "      <td>69</td>\n",
       "    </tr>\n",
       "    <tr>\n",
       "      <th>20</th>\n",
       "      <td>2.7</td>\n",
       "      <td>30</td>\n",
       "    </tr>\n",
       "    <tr>\n",
       "      <th>21</th>\n",
       "      <td>4.8</td>\n",
       "      <td>54</td>\n",
       "    </tr>\n",
       "    <tr>\n",
       "      <th>22</th>\n",
       "      <td>3.8</td>\n",
       "      <td>35</td>\n",
       "    </tr>\n",
       "    <tr>\n",
       "      <th>23</th>\n",
       "      <td>6.9</td>\n",
       "      <td>76</td>\n",
       "    </tr>\n",
       "    <tr>\n",
       "      <th>24</th>\n",
       "      <td>7.8</td>\n",
       "      <td>86</td>\n",
       "    </tr>\n",
       "  </tbody>\n",
       "</table>\n",
       "</div>"
      ],
      "text/plain": [
       "    Hours  Scores\n",
       "0     2.5      21\n",
       "1     5.1      47\n",
       "2     3.2      27\n",
       "3     8.5      75\n",
       "4     3.5      30\n",
       "5     1.5      20\n",
       "6     9.2      88\n",
       "7     5.5      60\n",
       "8     8.3      81\n",
       "9     2.7      25\n",
       "10    7.7      85\n",
       "11    5.9      62\n",
       "12    4.5      41\n",
       "13    3.3      42\n",
       "14    1.1      17\n",
       "15    8.9      95\n",
       "16    2.5      30\n",
       "17    1.9      24\n",
       "18    6.1      67\n",
       "19    7.4      69\n",
       "20    2.7      30\n",
       "21    4.8      54\n",
       "22    3.8      35\n",
       "23    6.9      76\n",
       "24    7.8      86"
      ]
     },
     "execution_count": 45,
     "metadata": {},
     "output_type": "execute_result"
    }
   ],
   "source": [
    "train"
   ]
  },
  {
   "cell_type": "code",
   "execution_count": 46,
   "id": "d4ed9fc7",
   "metadata": {
    "execution": {
     "iopub.execute_input": "2025-05-18T21:36:21.428140Z",
     "iopub.status.busy": "2025-05-18T21:36:21.427753Z",
     "iopub.status.idle": "2025-05-18T21:36:21.440076Z",
     "shell.execute_reply": "2025-05-18T21:36:21.438761Z"
    },
    "papermill": {
     "duration": 0.03626,
     "end_time": "2025-05-18T21:36:21.442170",
     "exception": false,
     "start_time": "2025-05-18T21:36:21.405910",
     "status": "completed"
    },
    "tags": []
   },
   "outputs": [
    {
     "data": {
      "text/html": [
       "<div>\n",
       "<style scoped>\n",
       "    .dataframe tbody tr th:only-of-type {\n",
       "        vertical-align: middle;\n",
       "    }\n",
       "\n",
       "    .dataframe tbody tr th {\n",
       "        vertical-align: top;\n",
       "    }\n",
       "\n",
       "    .dataframe thead th {\n",
       "        text-align: right;\n",
       "    }\n",
       "</style>\n",
       "<table border=\"1\" class=\"dataframe\">\n",
       "  <thead>\n",
       "    <tr style=\"text-align: right;\">\n",
       "      <th></th>\n",
       "      <th>Hours</th>\n",
       "      <th>Scores</th>\n",
       "    </tr>\n",
       "  </thead>\n",
       "  <tbody>\n",
       "    <tr>\n",
       "      <th>0</th>\n",
       "      <td>3.5</td>\n",
       "      <td>0</td>\n",
       "    </tr>\n",
       "    <tr>\n",
       "      <th>1</th>\n",
       "      <td>5.0</td>\n",
       "      <td>0</td>\n",
       "    </tr>\n",
       "    <tr>\n",
       "      <th>2</th>\n",
       "      <td>7.0</td>\n",
       "      <td>0</td>\n",
       "    </tr>\n",
       "    <tr>\n",
       "      <th>3</th>\n",
       "      <td>9.0</td>\n",
       "      <td>0</td>\n",
       "    </tr>\n",
       "    <tr>\n",
       "      <th>4</th>\n",
       "      <td>6.0</td>\n",
       "      <td>0</td>\n",
       "    </tr>\n",
       "    <tr>\n",
       "      <th>5</th>\n",
       "      <td>5.0</td>\n",
       "      <td>0</td>\n",
       "    </tr>\n",
       "  </tbody>\n",
       "</table>\n",
       "</div>"
      ],
      "text/plain": [
       "   Hours  Scores\n",
       "0    3.5       0\n",
       "1    5.0       0\n",
       "2    7.0       0\n",
       "3    9.0       0\n",
       "4    6.0       0\n",
       "5    5.0       0"
      ]
     },
     "execution_count": 46,
     "metadata": {},
     "output_type": "execute_result"
    }
   ],
   "source": [
    "test"
   ]
  },
  {
   "cell_type": "markdown",
   "id": "37518041",
   "metadata": {
    "papermill": {
     "duration": 0.022008,
     "end_time": "2025-05-18T21:36:21.484940",
     "exception": false,
     "start_time": "2025-05-18T21:36:21.462932",
     "status": "completed"
    },
    "tags": []
   },
   "source": [
    "> **Feature and Label Extraction for Training**"
   ]
  },
  {
   "cell_type": "code",
   "execution_count": 47,
   "id": "e73e2c3a",
   "metadata": {
    "execution": {
     "iopub.execute_input": "2025-05-18T21:36:21.527569Z",
     "iopub.status.busy": "2025-05-18T21:36:21.527131Z",
     "iopub.status.idle": "2025-05-18T21:36:21.534250Z",
     "shell.execute_reply": "2025-05-18T21:36:21.532633Z"
    },
    "papermill": {
     "duration": 0.031058,
     "end_time": "2025-05-18T21:36:21.536833",
     "exception": false,
     "start_time": "2025-05-18T21:36:21.505775",
     "status": "completed"
    },
    "tags": []
   },
   "outputs": [],
   "source": [
    "X_train =df3[\"Hours\"][:25].values.reshape(-1,1)\n",
    "Y_train =df3['Scores'][:25].values.reshape(-1,1)"
   ]
  },
  {
   "cell_type": "code",
   "execution_count": 48,
   "id": "4bbdbd04",
   "metadata": {
    "execution": {
     "iopub.execute_input": "2025-05-18T21:36:21.579567Z",
     "iopub.status.busy": "2025-05-18T21:36:21.579044Z",
     "iopub.status.idle": "2025-05-18T21:36:21.585999Z",
     "shell.execute_reply": "2025-05-18T21:36:21.584295Z"
    },
    "papermill": {
     "duration": 0.030503,
     "end_time": "2025-05-18T21:36:21.588279",
     "exception": false,
     "start_time": "2025-05-18T21:36:21.557776",
     "status": "completed"
    },
    "tags": []
   },
   "outputs": [],
   "source": [
    "X_test = df3[\"Hours\"][25:].values.reshape(-1,1)"
   ]
  },
  {
   "cell_type": "markdown",
   "id": "0f30f687",
   "metadata": {
    "papermill": {
     "duration": 0.021312,
     "end_time": "2025-05-18T21:36:21.631598",
     "exception": false,
     "start_time": "2025-05-18T21:36:21.610286",
     "status": "completed"
    },
    "tags": []
   },
   "source": [
    "**Fitting the Model to Training Data**"
   ]
  },
  {
   "cell_type": "code",
   "execution_count": 49,
   "id": "d38308f4",
   "metadata": {
    "execution": {
     "iopub.execute_input": "2025-05-18T21:36:21.675561Z",
     "iopub.status.busy": "2025-05-18T21:36:21.675087Z",
     "iopub.status.idle": "2025-05-18T21:36:21.686935Z",
     "shell.execute_reply": "2025-05-18T21:36:21.685658Z"
    },
    "papermill": {
     "duration": 0.036873,
     "end_time": "2025-05-18T21:36:21.689308",
     "exception": false,
     "start_time": "2025-05-18T21:36:21.652435",
     "status": "completed"
    },
    "tags": []
   },
   "outputs": [
    {
     "data": {
      "text/html": [
       "<style>#sk-container-id-2 {color: black;background-color: white;}#sk-container-id-2 pre{padding: 0;}#sk-container-id-2 div.sk-toggleable {background-color: white;}#sk-container-id-2 label.sk-toggleable__label {cursor: pointer;display: block;width: 100%;margin-bottom: 0;padding: 0.3em;box-sizing: border-box;text-align: center;}#sk-container-id-2 label.sk-toggleable__label-arrow:before {content: \"▸\";float: left;margin-right: 0.25em;color: #696969;}#sk-container-id-2 label.sk-toggleable__label-arrow:hover:before {color: black;}#sk-container-id-2 div.sk-estimator:hover label.sk-toggleable__label-arrow:before {color: black;}#sk-container-id-2 div.sk-toggleable__content {max-height: 0;max-width: 0;overflow: hidden;text-align: left;background-color: #f0f8ff;}#sk-container-id-2 div.sk-toggleable__content pre {margin: 0.2em;color: black;border-radius: 0.25em;background-color: #f0f8ff;}#sk-container-id-2 input.sk-toggleable__control:checked~div.sk-toggleable__content {max-height: 200px;max-width: 100%;overflow: auto;}#sk-container-id-2 input.sk-toggleable__control:checked~label.sk-toggleable__label-arrow:before {content: \"▾\";}#sk-container-id-2 div.sk-estimator input.sk-toggleable__control:checked~label.sk-toggleable__label {background-color: #d4ebff;}#sk-container-id-2 div.sk-label input.sk-toggleable__control:checked~label.sk-toggleable__label {background-color: #d4ebff;}#sk-container-id-2 input.sk-hidden--visually {border: 0;clip: rect(1px 1px 1px 1px);clip: rect(1px, 1px, 1px, 1px);height: 1px;margin: -1px;overflow: hidden;padding: 0;position: absolute;width: 1px;}#sk-container-id-2 div.sk-estimator {font-family: monospace;background-color: #f0f8ff;border: 1px dotted black;border-radius: 0.25em;box-sizing: border-box;margin-bottom: 0.5em;}#sk-container-id-2 div.sk-estimator:hover {background-color: #d4ebff;}#sk-container-id-2 div.sk-parallel-item::after {content: \"\";width: 100%;border-bottom: 1px solid gray;flex-grow: 1;}#sk-container-id-2 div.sk-label:hover label.sk-toggleable__label {background-color: #d4ebff;}#sk-container-id-2 div.sk-serial::before {content: \"\";position: absolute;border-left: 1px solid gray;box-sizing: border-box;top: 0;bottom: 0;left: 50%;z-index: 0;}#sk-container-id-2 div.sk-serial {display: flex;flex-direction: column;align-items: center;background-color: white;padding-right: 0.2em;padding-left: 0.2em;position: relative;}#sk-container-id-2 div.sk-item {position: relative;z-index: 1;}#sk-container-id-2 div.sk-parallel {display: flex;align-items: stretch;justify-content: center;background-color: white;position: relative;}#sk-container-id-2 div.sk-item::before, #sk-container-id-2 div.sk-parallel-item::before {content: \"\";position: absolute;border-left: 1px solid gray;box-sizing: border-box;top: 0;bottom: 0;left: 50%;z-index: -1;}#sk-container-id-2 div.sk-parallel-item {display: flex;flex-direction: column;z-index: 1;position: relative;background-color: white;}#sk-container-id-2 div.sk-parallel-item:first-child::after {align-self: flex-end;width: 50%;}#sk-container-id-2 div.sk-parallel-item:last-child::after {align-self: flex-start;width: 50%;}#sk-container-id-2 div.sk-parallel-item:only-child::after {width: 0;}#sk-container-id-2 div.sk-dashed-wrapped {border: 1px dashed gray;margin: 0 0.4em 0.5em 0.4em;box-sizing: border-box;padding-bottom: 0.4em;background-color: white;}#sk-container-id-2 div.sk-label label {font-family: monospace;font-weight: bold;display: inline-block;line-height: 1.2em;}#sk-container-id-2 div.sk-label-container {text-align: center;}#sk-container-id-2 div.sk-container {/* jupyter's `normalize.less` sets `[hidden] { display: none; }` but bootstrap.min.css set `[hidden] { display: none !important; }` so we also need the `!important` here to be able to override the default hidden behavior on the sphinx rendered scikit-learn.org. See: https://github.com/scikit-learn/scikit-learn/issues/21755 */display: inline-block !important;position: relative;}#sk-container-id-2 div.sk-text-repr-fallback {display: none;}</style><div id=\"sk-container-id-2\" class=\"sk-top-container\"><div class=\"sk-text-repr-fallback\"><pre>LinearRegression()</pre><b>In a Jupyter environment, please rerun this cell to show the HTML representation or trust the notebook. <br />On GitHub, the HTML representation is unable to render, please try loading this page with nbviewer.org.</b></div><div class=\"sk-container\" hidden><div class=\"sk-item\"><div class=\"sk-estimator sk-toggleable\"><input class=\"sk-toggleable__control sk-hidden--visually\" id=\"sk-estimator-id-2\" type=\"checkbox\" checked><label for=\"sk-estimator-id-2\" class=\"sk-toggleable__label sk-toggleable__label-arrow\">LinearRegression</label><div class=\"sk-toggleable__content\"><pre>LinearRegression()</pre></div></div></div></div></div>"
      ],
      "text/plain": [
       "LinearRegression()"
      ]
     },
     "execution_count": 49,
     "metadata": {},
     "output_type": "execute_result"
    }
   ],
   "source": [
    "regresore.fit(X_train,Y_train)"
   ]
  },
  {
   "cell_type": "markdown",
   "id": "ec20ede2",
   "metadata": {
    "papermill": {
     "duration": 0.022371,
     "end_time": "2025-05-18T21:36:21.733601",
     "exception": false,
     "start_time": "2025-05-18T21:36:21.711230",
     "status": "completed"
    },
    "tags": []
   },
   "source": [
    "**Predicting Test Data Outcomes**"
   ]
  },
  {
   "cell_type": "code",
   "execution_count": 50,
   "id": "1774c2d8",
   "metadata": {
    "execution": {
     "iopub.execute_input": "2025-05-18T21:36:21.780123Z",
     "iopub.status.busy": "2025-05-18T21:36:21.779685Z",
     "iopub.status.idle": "2025-05-18T21:36:21.785910Z",
     "shell.execute_reply": "2025-05-18T21:36:21.784719Z"
    },
    "papermill": {
     "duration": 0.031572,
     "end_time": "2025-05-18T21:36:21.788368",
     "exception": false,
     "start_time": "2025-05-18T21:36:21.756796",
     "status": "completed"
    },
    "tags": []
   },
   "outputs": [],
   "source": [
    "Y_pred = regresore.predict(X_test)"
   ]
  },
  {
   "cell_type": "code",
   "execution_count": 51,
   "id": "26d72960",
   "metadata": {
    "execution": {
     "iopub.execute_input": "2025-05-18T21:36:21.831247Z",
     "iopub.status.busy": "2025-05-18T21:36:21.830801Z",
     "iopub.status.idle": "2025-05-18T21:36:21.838922Z",
     "shell.execute_reply": "2025-05-18T21:36:21.837350Z"
    },
    "papermill": {
     "duration": 0.032226,
     "end_time": "2025-05-18T21:36:21.841253",
     "exception": false,
     "start_time": "2025-05-18T21:36:21.809027",
     "status": "completed"
    },
    "tags": []
   },
   "outputs": [
    {
     "data": {
      "text/plain": [
       "array([[36.69898527],\n",
       "       [51.36269036],\n",
       "       [70.91429714],\n",
       "       [90.46590392],\n",
       "       [61.13849375],\n",
       "       [51.36269036]])"
      ]
     },
     "execution_count": 51,
     "metadata": {},
     "output_type": "execute_result"
    }
   ],
   "source": [
    "Y_pred"
   ]
  },
  {
   "cell_type": "markdown",
   "id": "950ce11d",
   "metadata": {
    "papermill": {
     "duration": 0.020267,
     "end_time": "2025-05-18T21:36:21.883438",
     "exception": false,
     "start_time": "2025-05-18T21:36:21.863171",
     "status": "completed"
    },
    "tags": []
   },
   "source": [
    "**Scatter Plot of Predicted Scores vs. Hours Studied**"
   ]
  },
  {
   "cell_type": "code",
   "execution_count": 52,
   "id": "ec5e3ca2",
   "metadata": {
    "execution": {
     "iopub.execute_input": "2025-05-18T21:36:21.927369Z",
     "iopub.status.busy": "2025-05-18T21:36:21.926946Z",
     "iopub.status.idle": "2025-05-18T21:36:22.205994Z",
     "shell.execute_reply": "2025-05-18T21:36:22.204924Z"
    },
    "papermill": {
     "duration": 0.303753,
     "end_time": "2025-05-18T21:36:22.208088",
     "exception": false,
     "start_time": "2025-05-18T21:36:21.904335",
     "status": "completed"
    },
    "tags": []
   },
   "outputs": [
    {
     "data": {
      "image/png": "[encoded data removed]",
      "text/plain": [
       "<Figure size 640x480 with 1 Axes>"
      ]
     },
     "metadata": {},
     "output_type": "display_data"
    }
   ],
   "source": [
    "sns.scatterplot(\n",
    "    x=X_test.ravel(), \n",
    "    y=Y_pred.ravel(), \n",
    "    s=100,\n",
    "    color='blue',\n",
    "    alpha=0.5,\n",
    "    edgecolor='darkred',\n",
    "    linewidth=1.5,\n",
    "    label='Predicted'\n",
    ")\n",
    "plt.title('Student & Scores', fontsize=16, color='darkblue')\n",
    "plt.xlabel('Hours', fontsize=14, color='darkgreen')\n",
    "plt.ylabel('Scores', fontsize=14, color='darkgreen')\n",
    "plt.grid(True, alpha=0.3)\n",
    "plt.xticks(fontsize=12)\n",
    "plt.yticks(fontsize=12)\n",
    "plt.legend()\n",
    "plt.show()"
   ]
  },
  {
   "cell_type": "code",
   "execution_count": 53,
   "id": "1c8d8004",
   "metadata": {
    "execution": {
     "iopub.execute_input": "2025-05-18T21:36:22.252474Z",
     "iopub.status.busy": "2025-05-18T21:36:22.252072Z",
     "iopub.status.idle": "2025-05-18T21:36:22.563373Z",
     "shell.execute_reply": "2025-05-18T21:36:22.561813Z"
    },
    "papermill": {
     "duration": 0.336012,
     "end_time": "2025-05-18T21:36:22.565540",
     "exception": false,
     "start_time": "2025-05-18T21:36:22.229528",
     "status": "completed"
    },
    "tags": []
   },
   "outputs": [
    {
     "data": {
      "image/png": "[encoded data removed]",
      "text/plain": [
       "<Figure size 640x480 with 1 Axes>"
      ]
     },
     "metadata": {},
     "output_type": "display_data"
    }
   ],
   "source": [
    "sns.scatterplot(\n",
    "    x=a.ravel(),\n",
    "    y=b.ravel(),\n",
    "    color='#33ffbe',\n",
    "    label='Score'\n",
    ")\n",
    "\n",
    "sns.scatterplot(\n",
    "    x=c.ravel(),\n",
    "    y=d.ravel(),\n",
    "    color='red',\n",
    "    s=100,\n",
    "    alpha=0.3,\n",
    "    label='predict'\n",
    ")\n",
    "\n",
    "\n",
    "plt.xlabel('Hourse')\n",
    "plt.ylabel('Scores')\n",
    "plt.title('Student & Scores')\n",
    "plt.legend()\n",
    "plt.show()\n"
   ]
  },
  {
   "cell_type": "code",
   "execution_count": 54,
   "id": "7ff61299",
   "metadata": {
    "execution": {
     "iopub.execute_input": "2025-05-18T21:36:22.614272Z",
     "iopub.status.busy": "2025-05-18T21:36:22.613864Z",
     "iopub.status.idle": "2025-05-18T21:36:22.625043Z",
     "shell.execute_reply": "2025-05-18T21:36:22.623449Z"
    },
    "papermill": {
     "duration": 0.038609,
     "end_time": "2025-05-18T21:36:22.627182",
     "exception": false,
     "start_time": "2025-05-18T21:36:22.588573",
     "status": "completed"
    },
    "tags": []
   },
   "outputs": [
    {
     "name": "stdout",
     "output_type": "stream",
     "text": [
      "   X_test     Y_pred\n",
      "0     3.5  36.698985\n",
      "1     5.0  51.362690\n",
      "2     7.0  70.914297\n",
      "3     9.0  90.465904\n",
      "4     6.0  61.138494\n",
      "5     5.0  51.362690\n"
     ]
    }
   ],
   "source": [
    "df3 = pd.DataFrame({\n",
    "    'X_test': X_test.ravel(),\n",
    "    'Y_pred': Y_pred.ravel()\n",
    "})\n",
    "\n",
    "print(df3)"
   ]
  },
  {
   "cell_type": "code",
   "execution_count": null,
   "id": "4e51a97a",
   "metadata": {
    "papermill": {
     "duration": 0.021612,
     "end_time": "2025-05-18T21:36:22.671837",
     "exception": false,
     "start_time": "2025-05-18T21:36:22.650225",
     "status": "completed"
    },
    "tags": []
   },
   "outputs": [],
   "source": []
  }
 ],
 "metadata": {
  "kaggle": {
   "accelerator": "none",
   "dataSources": [
    {
     "datasetId": 1171622,
     "sourceId": 1962502,
     "sourceType": "datasetVersion"
    }
   ],
   "dockerImageVersionId": 31040,
   "isGpuEnabled": false,
   "isInternetEnabled": true,
   "language": "python",
   "sourceType": "notebook"
  },
  "kernelspec": {
   "display_name": "Python 3",
   "language": "python",
   "name": "python3"
  },
  "language_info": {
   "codemirror_mode": {
    "name": "ipython",
    "version": 3
   },
   "file_extension": ".py",
   "mimetype": "text/x-python",
   "name": "python",
   "nbconvert_exporter": "python",
   "pygments_lexer": "ipython3",
   "version": "3.11.11"
  },
  "papermill": {
   "default_parameters": {},
   "duration": 20.901886,
   "end_time": "2025-05-18T21:36:23.720353",
   "environment_variables": {},
   "exception": null,
   "input_path": "__notebook__.ipynb",
   "output_path": "__notebook__.ipynb",
   "parameters": {},
   "start_time": "2025-05-18T21:36:02.818467",
   "version": "2.6.0"
  }
 },
 "nbformat": 4,
 "nbformat_minor": 5
}
